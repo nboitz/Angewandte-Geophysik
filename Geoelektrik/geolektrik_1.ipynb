{
 "cells": [
  {
   "cell_type": "markdown",
   "metadata": {},
   "source": [
    "## Scheinbare spezifische Widerstände für gegebene Widerstands-Tiefen-Verteilungen\n",
    "\n",
    "Mithilfe dieses Jupyter-Notebooks können Sie scheinbare spezifische Widerstände für Schichten mit beliebigen Dicken und Widerständen berechnen. Dazu führen Sie zunächst die erste Zelle, direkt unter dieser, aus (strg+Enter), in der zusätzliche benötigte Funktionen definiert werden. Die eigentliche Berechnung der Widerstandskurven erfolgt dann in der Zelle darunter. "
   ]
  },
  {
   "cell_type": "code",
   "execution_count": 1,
   "metadata": {},
   "outputs": [],
   "source": [
    "import numpy as np\n",
    "import scipy.special as scp\n",
    "import matplotlib.pyplot as plt\n",
    "import time\n",
    "\n",
    "''' Berechnet die scheinbaren spezifischen Widerstände für Schichten mit der\n",
    "        Dicke d und spezifischen Widerständen rho für bestimmte Auslagenlängen L/2 \n",
    "\n",
    "    © Nepomuk Boitz, Mai 2020, boitz@geophysik.fu-berlin.de\n",
    "'''\n",
    "\n",
    "def precompute_bessel_function(L_model,dx,n_max):\n",
    "    vec = np.arange(0,n_max+dx,dx); \n",
    "    bessel = np.zeros([len(L_model),len(vec)])\n",
    "    for jdx,L in enumerate(L_model):\n",
    "        for idx,lamb in enumerate(vec):\n",
    "            bessel[jdx,idx] = scp.jv(1,lamb*L)*lamb\n",
    "    return bessel\n",
    "\n",
    "def forward_model_1(rho,d,L_model,bessel,dx,n_max): \n",
    "\n",
    "    ## Initialize parameters\n",
    "    n = len(rho); \n",
    "    K = np.zeros([n]); \n",
    "    T = np.zeros([n])\n",
    "    vec1 = np.arange(0,n_max+dx,dx); \n",
    "    T_star = np.zeros(len(vec1))\n",
    "    P = np.zeros([n-1])\n",
    "    rho_a = np.zeros([len(L_model)])\n",
    "    temp = np.zeros([n-1,len(vec1)])\n",
    "    check = np.zeros([n-1,len(vec1)])\n",
    "    K[n-1] = 1; \n",
    "    # Precomputations\n",
    "    for i in range(0,n-1):\n",
    "        P[i] = rho[i]/rho[i+1]; \n",
    "        for idx,lamb in enumerate(vec1):\n",
    "            temp[i,idx] = np.tanh(d[i]*lamb)\n",
    "\n",
    "    vec = np.arange(n-2,-1,-1)\n",
    "    count = 0; \n",
    "    for idx,lamb in enumerate(vec1):  \n",
    "        for i in vec:\n",
    "            K[i] = (K[i+1]+P[i]*temp[i,idx])/(P[i] + K[i+1]*temp[i,idx]);\n",
    "            check[i,idx] = K[i]\n",
    "        T_star[idx] = rho[0]*check[0,idx];\n",
    "    \n",
    "    \n",
    "    # Forward Modeling     \n",
    "    for jdx,L in enumerate(L_model):\n",
    "        fac = 0;\n",
    "        for idx,lamb in enumerate(vec1):\n",
    "            fac = fac + (((T_star[idx]-rho[0])*bessel[jdx,idx])*dx);\n",
    "        fac = rho[0]+L**2*fac; \n",
    "        rho_a[count] = fac;   \n",
    "        count += 1; \n",
    "\n",
    "    return rho_a\n",
    "\n",
    "def plot_model(rho_a,z_a):\n",
    "    n_layer = np.size(rho_a)\n",
    "    z = np.zeros(2*n_layer)\n",
    "    rho = np.zeros(2*n_layer)\n",
    "    for j in range(n_layer):\n",
    "        rho[range(j*2,j*2+2)] = rho_a[j]\n",
    "    for j in range(n_layer-1):\n",
    "        z[range(j*2+1,j*2+3)] = z_a[j] + z[j]\n",
    "    z[n_layer*2-1] = max(z)+5\n",
    "    plt.plot(rho,-z,'k--')\n",
    "    plt.ylabel('Tiefe [m]')\n",
    "    plt.xlabel('Spezifischer Widerstand [Ohm m]')\n",
    "    \n",
    "    "
   ]
  },
  {
   "cell_type": "markdown",
   "metadata": {},
   "source": [
    "## Vorwärtsrechnung\n",
    "\n",
    "Mithilfe der folgenden Zelle berechnen Sie synthetische scheinbare Widerstände für ein beliebiges Untergrundmodell. Verändern Sie mithilfe der Variablen *rho* und *d* die Widerstände und Dicken der Schichten. Für die unterste Schicht wird automatische eine unendliche Dicke angenommen, sodass Sie z.B. für einen Dreischichtfall nur 2 Dicken (die der ersten und zweiten Schicht) angeben müssen. \n",
    "\n",
    "In voreingestellten Fall (siehe unten), haben alle Schichten einen spezifischen Widerstand von 10 Ohm m und Dicken von jeweils 5m.  \n",
    "Mithilfe eines rechten Mausclicks auf die untere Abbildung können Sie diese speichern. "
   ]
  },
  {
   "cell_type": "code",
   "execution_count": 9,
   "metadata": {},
   "outputs": [
    {
     "data": {
      "image/png": "[encoded data removed]",
      "text/plain": [
       "<Figure size 1080x360 with 2 Axes>"
      ]
     },
     "metadata": {
      "needs_background": "light"
     },
     "output_type": "display_data"
    }
   ],
   "source": [
    "rho = np.array([10,10,10]); # Widerstände der Schichten\n",
    "d = np.array([5,5]); # Schichtdicken\n",
    "\n",
    "\n",
    "## Ab hier nichts mehr verändern\n",
    "\n",
    "start_model = np.concatenate([rho,d])\n",
    "\n",
    "# Inversionparameter\n",
    "\n",
    "dx = .01 # Paramter für das numerische lösen des Intergrals (am besten so lassen)\n",
    "n_max = 50; # Paramter für das numerische lösen des Intergrals (am besten so lassen)\n",
    "fac = .15; # kontrolliert wie groß ein einzelnes Modellupdate sein soll\n",
    "L_model = np.logspace(0,2.2,30)\n",
    "\n",
    "# Vorwärtsrechnung wird gestartet\n",
    "bessel = precompute_bessel_function(L_model,dx,n_max)\n",
    "rho_a = forward_model_1(rho,d,L_model,bessel,dx,n_max)\n",
    "\n",
    "# Abbildung wird erstellt\n",
    "plt.figure(figsize=(15,5))\n",
    "plt.subplot(1,2,2)\n",
    "plt.plot(L_model,rho_a,'.')\n",
    "plt.xscale('log')\n",
    "plt.title('scheinbarer Widerstand als Funktion von L/2 ')\n",
    "plt.xlabel('L/2 [m]')\n",
    "plt.ylabel('rho_a [Ohm m]')\n",
    "plt.subplot(1,2,1)\n",
    "plot_model(rho,d)\n",
    "plt.title('Widerstandstiefenverteilung ')\n",
    "plt.show()\n"
   ]
  }
 ],
 "metadata": {
  "kernelspec": {
   "display_name": "Python 3",
   "language": "python",
   "name": "python3"
  },
  "language_info": {
   "codemirror_mode": {
    "name": "ipython",
    "version": 3
   },
   "file_extension": ".py",
   "mimetype": "text/x-python",
   "name": "python",
   "nbconvert_exporter": "python",
   "pygments_lexer": "ipython3",
   "version": "3.8.2"
  }
 },
 "nbformat": 4,
 "nbformat_minor": 4
}
