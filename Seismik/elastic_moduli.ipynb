{
 "cells": [
  {
   "cell_type": "markdown",
   "metadata": {},
   "source": [
    "## Elastische Module und seimische Geschwindigkeiten\n",
    "\n",
    "Dieses Jupyter-Notebook berechnet mithilfe beliebiger seismischer Module Wellengeschwindigkeiten."
   ]
  },
  {
   "cell_type": "code",
   "execution_count": 1,
   "metadata": {},
   "outputs": [],
   "source": [
    "import numpy as np\n",
    "import matplotlib.pyplot as plt\n",
    "\n",
    "def velocities(mu,lamda,rho): \n",
    "    vs = np.sqrt(mu/rho)\n",
    "    vp = np.sqrt((lamda+2*mu)/rho)\n",
    "    return [vp,vs]\n",
    "def mu_lamda(E,K,sigma): \n",
    "    mu = 9*K*E/(9*K-E)\n",
    "    lamda = 3*K*(3*K-E)/(9*K-E)\n",
    "    return [mu,lamda]\n",
    "def K_sig_E(lamda,mu):\n",
    "    E = mu*((3*lamda+2*mu)/(lamda+mu))\n",
    "    sigma = lamda/(2*(lamda+mu))\n",
    "    K = lamda+2/3*mu\n",
    "    return [E,sigma,K]\n",
    "    \n",
    "    \n",
    "def elastic_moduli(vp=np.nan,vs=np.nan,rho=np.nan,E=np.nan,sigma=np.nan,K=np.nan,mu=np.nan,lamda=np.nan):\n",
    "    if (~np.isnan(E) & ~np.isnan(sigma)):#1\n",
    "        K = E/(3*(1-2*sigma))\n",
    "        [mu,lamda] = mu_lamda(E,K,sigma)\n",
    "        return np.array([E,sigma,K,mu,lamda,*velocities(mu,lamda,rho),rho])\n",
    "    \n",
    "    if (~np.isnan(E) & ~np.isnan(K)): #2\n",
    "        sigma = (3*K-E)/(6*k)\n",
    "        [mu,lamda] = mu_lamda(E,K,sigma)\n",
    "        return np.array([E,sigma,K,mu,lamda,*velocities(mu,lamda,rho),rho])\n",
    "    \n",
    "    if (~np.isnan(E) & ~np.isnan(mu)): #3\n",
    "        sigma = (E-2*mu)/(2*mu)\n",
    "        K = (mu*E)/(3*(3*mu-E))\n",
    "        [mu,lamda] = mu_lamda(E,K,sigma)\n",
    "        return np.array([E,sigma,K,mu,lamda,*velocities(mu,lamda,rho),rho])\n",
    "    \n",
    "    if (~np.isnan(sigma) & ~np.isnan(K)): #4\n",
    "        E = 3*K*(1-2*sigma)\n",
    "        [mu,lamda] = mu_lamda(E,K,sigma)\n",
    "        return np.array([E,sigma,K,mu,lamda,*velocities(mu,lamda,rho),rho]) \n",
    "    \n",
    "    if (~np.isnan(sigma) & ~np.isnan(mu)): #5\n",
    "        lamda = mu*(2*sigma/(1-2*sigma))\n",
    "        [E,sigma,K] = K_sig_E(lamda,mu)\n",
    "        return np.array([E,sigma,K,mu,lamda,*velocities(mu,lamda,rho),rho])\n",
    "    \n",
    "    if (~np.isnan(sigma) & ~np.isnan(lamda)): #6 \n",
    "        mu = lamda*((1-2*sigma)/(2*sigma))\n",
    "        [E,sigma,K] = K_sig_E(lamda,mu)\n",
    "        return np.array([E,sigma,K,mu,lamda,*velocities(mu,lamda,rho),rho])\n",
    "    \n",
    "    if (~np.isnan(K) & ~np.isnan(mu)):#7\n",
    "        lamda = K-2*mu/3\n",
    "        [E,sigma,K] = K_sig_E(lamda,mu)\n",
    "        return np.array([E,sigma,K,mu,lamda,*velocities(mu,lamda,rho),rho])\n",
    "    \n",
    "    if (~np.isnan(K) & ~np.isnan(lamda)):#8\n",
    "        mu = 1.5*(K-lamda)\n",
    "        [E,sigma,K] = K_sig_E(lamda,mu)\n",
    "        return np.array([E,sigma,K,mu,lamda,*velocities(mu,lamda,rho),rho])\n",
    "    \n",
    "    if (~np.isnan(mu) & ~np.isnan(lamda)):#9\n",
    "        [E,sigma,K] = K_sig_E(lamda,mu)\n",
    "        return np.array([E,sigma,K,mu,lamda,*velocities(mu,lamda,rho),rho])\n",
    "    \n",
    "    if (~np.isnan(vp) & ~np.isnan(vs) & ~np.isnan(rho)):#10\n",
    "        mu = rho*vs**2\n",
    "        lamda = rho*vp**2 - 2*mu\n",
    "        [E,sigma,K] = K_sig_E(lamda,mu)\n",
    "        return np.array([E,sigma,K,mu,lamda,*velocities(mu,lamda,rho),rho])\n"
   ]
  },
  {
   "cell_type": "markdown",
   "metadata": {},
   "source": [
    "### zu Aufgabe 5b)\n",
    "Führen Sie die oben stehende Zelle einmal aus (strg+Enter). \n",
    "\n",
    "Fügen Sie hier bitte ihre von Hand berechneten Werte für jedes der 6 Gesteine ein, indem Sie hinter das '=' - Zeichen den jeweiligen Wert von K, $\\sigma$ und $\\rho$ eingeben. Die Schreibweise $*10^{10}$ lässt sich im Jupyter-Notebook mithilfe von '$*10**10$' realisieren, $2.5*10^{10}$ wäre also '$2.5*10**10$'. \n",
    "\n",
    "Welche generellen Zusammenhänge lassen sich zwischen den seismischen Geschwindigkeiten und den elastischen Parametern feststellen ?"
   ]
  },
  {
   "cell_type": "code",
   "execution_count": 2,
   "metadata": {},
   "outputs": [
    {
     "ename": "SyntaxError",
     "evalue": "invalid syntax (<ipython-input-2-c96f8bf90d17>, line 5)",
     "output_type": "error",
     "traceback": [
      "\u001b[1;36m  File \u001b[1;32m\"<ipython-input-2-c96f8bf90d17>\"\u001b[1;36m, line \u001b[1;32m5\u001b[0m\n\u001b[1;33m    tab[0,:]=elastic_moduli(K= ,sigma= ,rho= ) # Wasser\u001b[0m\n\u001b[1;37m                               ^\u001b[0m\n\u001b[1;31mSyntaxError\u001b[0m\u001b[1;31m:\u001b[0m invalid syntax\n"
     ]
    }
   ],
   "source": [
    "tab = np.zeros([6,8])*np.NaN # 6 Gesteine, 8 Parameter)\n",
    "\n",
    "## Fügen Sie hier Ihre berechneten Werte ein \n",
    "\n",
    "tab[0,:]=elastic_moduli(K= ,sigma= ,rho= ) # Wasser\n",
    "tab[1,:]=elastic_moduli(K= ,sigma= ,rho= ) # Schlamm\n",
    "tab[2,:]=elastic_moduli(K= ,sigma= ,rho= ) # Tonschiefer\n",
    "tab[3,:]=elastic_moduli(K= ,sigma= ,rho= ) # Sandstein\n",
    "tab[4,:]=elastic_moduli(K= ,sigma= ,rho= ) # Kalkstein\n",
    "tab[5,:]=elastic_moduli(K= ,sigma= ,rho= ) # Granit\n",
    "\n",
    "## Ab hier nichts mehr verändern\n",
    "\n",
    "\n",
    "rock = ['Wasser','Schlamm','Tonschiefer','Sandstein','Kalkstein','Granit']\n",
    "param = ['E [Pa]','sigma','K [Pa]','mu [Pa]','lamda [Pa]','Geschwindigkeit [m/s]','Geschwindigkeit [m/s]','Dichte kg/m^3']\n",
    "combi = [0,1,2,3,4,7]\n",
    "\n",
    "plt.figure(figsize=(15,10))\n",
    "\n",
    "for i in range(6):\n",
    "    plt.subplot(2,3,i+1)\n",
    "    plt.plot((tab[np.argsort(tab[:,combi[i]]),combi[i]]),(tab[np.argsort(tab[:,combi[i]]),5]),'b*-',label='Vp')\n",
    "    plt.plot((tab[np.argsort(tab[:,combi[i]]),combi[i]]),(tab[np.argsort(tab[:,combi[i]]),6]),'r*-',label='Vs')\n",
    "    plt.legend()\n",
    "    plt.xlabel(param[i])\n",
    "    plt.ylabel(param[6])\n",
    "plt.xlabel(param[7])\n",
    "plt.subplots_adjust(wspace = 0.4,hspace = 0.2)\n"
   ]
  }
 ],
 "metadata": {
  "kernelspec": {
   "display_name": "Python 3",
   "language": "python",
   "name": "python3"
  },
  "language_info": {
   "codemirror_mode": {
    "name": "ipython",
    "version": 3
   },
   "file_extension": ".py",
   "mimetype": "text/x-python",
   "name": "python",
   "nbconvert_exporter": "python",
   "pygments_lexer": "ipython3",
   "version": "3.8.2"
  }
 },
 "nbformat": 4,
 "nbformat_minor": 2
}
