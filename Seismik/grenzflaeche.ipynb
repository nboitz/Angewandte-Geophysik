{
 "cells": [
  {
   "cell_type": "markdown",
   "metadata": {},
   "source": [
    "##  Seismische Wellen an einer Grenzfläche\n",
    "\n",
    "Das folgende Skript zeigt das Verhalten einer P-Welle, die in einem bestimmten Winkel auf eine Grenzfläche zwischen zwei Gesteinen mit unterschiedlichen Geschwindigkeiten trifft. \n",
    "Fügen Sie die entsprechenden Geschwindigkeiten und den Einfallswinkel in das Notebook ein und speichern Sie die resultierende Abbildung (Rechtsklick auf die Abbildung -> Grafik speichern unter). \n",
    "Beschriften Sie anschließend alle Strahlen. \n",
    "\n",
    "**Achtung:** x- und y-Achse sind hier aufgrund der besseren Darstellbarkeit nicht gleich skaliert !"
   ]
  },
  {
   "cell_type": "code",
   "execution_count": 1,
   "metadata": {},
   "outputs": [
    {
     "ename": "SyntaxError",
     "evalue": "invalid syntax (<ipython-input-1-2f8aaa2a9119>, line 18)",
     "output_type": "error",
     "traceback": [
      "\u001b[1;36m  File \u001b[1;32m\"<ipython-input-1-2f8aaa2a9119>\"\u001b[1;36m, line \u001b[1;32m18\u001b[0m\n\u001b[1;33m    Winkel= #Winkel zwischen Strahl und LOt auf die Grenzfläche\u001b[0m\n\u001b[1;37m            ^\u001b[0m\n\u001b[1;31mSyntaxError\u001b[0m\u001b[1;31m:\u001b[0m invalid syntax\n"
     ]
    }
   ],
   "source": [
    "## Seismische Wellen an einer Grenzfläche\n",
    "import numpy as np\n",
    "import matplotlib.pyplot as plt\n",
    "\n",
    " \n",
    "def get_all_alphas(alpha,d=10):\n",
    "    if alpha[0] != 0:\n",
    "        p = np.sin(alpha[0])/v[0]\n",
    "    else:\n",
    "        p = np.sin(alpha[2])/v[2]\n",
    "    alpha[:] = np.arcsin(p*v[:])\n",
    "    x = -np.tan(alpha)*d\n",
    "    return x\n",
    "\n",
    "#--------------------- Fügen Sie hier ihre Werte ein   --------------------------------------------\n",
    "\n",
    "\n",
    "Winkel= #Winkel zwischen Strahl und LOt auf die Grenzfläche\n",
    "\n",
    "v1=  # Geschwindigkeit der ersten Schicht in m/s\n",
    "\n",
    "v2=  # Geschwindigkeit der zweiten Schicht in m/s\n",
    " \n",
    "    \n",
    "    \n",
    "#---------------------   Ab hier nichts mehr verändern -------------------------------------------- \n",
    "vp = np.array([v1,v2])\n",
    "vs = vp/np.sqrt(3)\n",
    "alpha_in = np.deg2rad(Winkel)\n",
    "z = np.array([0,-10,-20])\n",
    "v = np.hstack((vp,vs))\n",
    "\n",
    "alpha = np.zeros(4)\n",
    "\n",
    "alpha[0] = alpha_in # Ursprüngliche Welle ist P-Welle\n",
    "#alpha[2] = alpha_in # Ursprüngliche Welle ist S-Welle\n",
    "\n",
    "x0 = np.tan(alpha_in)*(z[0]-z[1])\n",
    "plt.figure(figsize=(15,8))\n",
    "if alpha[0]!=0:\n",
    "    plt.plot([0,x0],[z[0],z[1]],'g-',label = 'Einfallende P-Welle')\n",
    "else:\n",
    "    plt.plot([0,x0],[z[0],z[1]],'g-',label = 'Einfallende S-Welle')\n",
    "    \n",
    "\n",
    "x = get_all_alphas(alpha,z[2]-z[1])\n",
    "\n",
    "\n",
    "plt.plot([x0,x0+x[0]],[z[1],z[0]],'b-') # reflektierte P ,label='Reflektierte P-Welle'\n",
    "plt.plot([x0,x0+x[1]],[z[1],z[2]],'b--') # P in Schicht 2 ,label='Refraktierte P-Welle'\n",
    "plt.plot([x0,x0+x[2]],[z[1],z[0]],'r-') # reflektierte S ,label='Reflektierte S-Welle'\n",
    "plt.plot([x0,x0+x[3]],[z[1],z[2]],'r--') # S in Schicht 2 ,label='Refraktierte S-Welle'\n",
    "\n",
    "plt.axvline(x0,Color='k',linestyle = '--')\n",
    "plt.axhline(z[1],Color='k',linestyle='-')\n",
    "\n",
    "plt.legend()\n",
    "plt.xlim([0,2*x0])\n",
    "plt.xlabel('Horizontale Entfernung [m]')\n",
    "plt.ylabel('Tiefe [m]')\n",
    "#plt.grid('off')\n",
    "#plt.axis('equal') \n",
    "plt.show()\n",
    "\n"
   ]
  }
 ],
 "metadata": {
  "kernelspec": {
   "display_name": "Python 3",
   "language": "python",
   "name": "python3"
  },
  "language_info": {
   "codemirror_mode": {
    "name": "ipython",
    "version": 3
   },
   "file_extension": ".py",
   "mimetype": "text/x-python",
   "name": "python",
   "nbconvert_exporter": "python",
   "pygments_lexer": "ipython3",
   "version": "3.8.2"
  }
 },
 "nbformat": 4,
 "nbformat_minor": 4
}
