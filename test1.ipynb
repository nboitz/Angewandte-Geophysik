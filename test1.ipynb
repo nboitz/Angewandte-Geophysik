{
 "cells": [
  {
   "cell_type": "markdown",
   "metadata": {},
   "source": [
    "## Inversion von Geoelektrik-Daten\n"
   ]
  },
  {
   "cell_type": "code",
   "execution_count": 115,
   "metadata": {},
   "outputs": [],
   "source": [
    "import numpy as np\n",
    "import scipy.special as scp\n",
    "\n",
    "def forward_model(rho,d,L_model): \n",
    "    ''' Berechnet die scheinbaren spezifischen Widerstände für Schichten mit der\n",
    "        Dicke d und spezifischen Widerständen rho für bestimmte Auslagenlängen L/2 \n",
    "\n",
    "    © Nepomuk Boitz, Mai 2019, boitz@geophysik.fu-berlin.de\n",
    "'''\n",
    "    n = len(rho); \n",
    "    K = np.zeros([n]); \n",
    "    T = np.zeros([n])\n",
    "    K[n-1] = 1; \n",
    "    P = np.zeros([n-1])\n",
    "    rho_a = np.zeros([len(L_model)])\n",
    "    dx = 0.1; \n",
    "    temp = np.zeros([n-1,len(np.arange(0,50+dx,dx))])\n",
    "    a = time.time()\n",
    "    for i in range(0,n-1):\n",
    "        P[i] = rho[i]/rho[i+1]; \n",
    "        for idx,lamb in enumerate(np.arange(0,50+dx,dx)):\n",
    "            temp[i,idx] = np.tanh(d[i]*lamb)\n",
    "    b = time.time()\n",
    "    print(b-a)\n",
    "\n",
    "    vec = np.arange(n-2,-1,-1)\n",
    "    count = 0; \n",
    "    for L in L_model:\n",
    "        fac = 0;\n",
    "        \n",
    "        for idx,lamb in enumerate(np.arange(0,50+dx,dx)):\n",
    "            #a = datetime.datetime.now()\n",
    "            for i in vec:\n",
    "                #print(i)\n",
    "                #K[i] = (K[i+1]+P[i]*np.tanh(d[i]*lamb))/(P[i] + K[i+1]*np.tanh(d[i]*lamb));\n",
    "                K[i] = (K[i+1]+P[i]*temp[i,idx])/(P[i] + K[i+1]*temp[i,idx]);\n",
    "            \n",
    "            for i in range(1):\n",
    "                T[i] = rho[i]*K[i];\n",
    "            \n",
    "            fac = fac + (((T[0]-rho[0])*scp.jv(1,lamb*L)*lamb)*dx);\n",
    "            #print(lamb,fac)\n",
    "            #return t2-t1\n",
    "            #b = datetime.datetime.now()\n",
    "            #c = b-a\n",
    "            #print(c.microseconds)\n",
    "        #return fac\n",
    "        fac = rho[0]+L**2*fac; \n",
    "        rho_a[count] = fac;   \n",
    "        count = count+1; \n",
    "\n",
    "    return rho_a"
   ]
  },
  {
   "cell_type": "code",
   "execution_count": 116,
   "metadata": {},
   "outputs": [
    {
     "name": "stdout",
     "output_type": "stream",
     "text": [
      "0.010742902755737305\n",
      "0.31963062286376953\n"
     ]
    },
    {
     "data": {
      "text/plain": [
       "[<matplotlib.lines.Line2D at 0x28953038cd0>]"
      ]
     },
     "execution_count": 116,
     "metadata": {},
     "output_type": "execute_result"
    },
    {
     "data": {
      "image/png": "[encoded data removed]",
      "text/plain": [
       "<Figure size 432x288 with 1 Axes>"
      ]
     },
     "metadata": {
      "needs_background": "light"
     },
     "output_type": "display_data"
    }
   ],
   "source": [
    "import matplotlib.pyplot as plt\n",
    "\n",
    "data = np.array([[1.33,79.9890,381.69],\n",
    "                 [1.78,30.0490,275.50],\n",
    "                 [2.37,9.9592,167.92],\n",
    "                 [3.16,2.7613,84.46],\n",
    "                 [4.22,1.0549,58.19],\n",
    "                 [5.62,0.5077,49.98],\n",
    "                 [7.50,0.3067,53.96],\n",
    "                 [10.00,0.1815,56.88],\n",
    "                 [13.34,0.1102,61.52],\n",
    "                 [17.78,0.0557,55.27],\n",
    "                 [23.71,0.0303,53.49],\n",
    "                 [31.62,0.0157,49.30],\n",
    "                 [42.17,0.0080,44.69]]) \n",
    "# Startmodell\n",
    "rho_start = np.array([500,20,100,50]); \n",
    "d_start = np.array([1,1,8]); \n",
    "#print(np.transpose(data[:,0]))\n",
    "import datetime \n",
    "#t1 = time.time()\n",
    "#for i in range(0,100000):\n",
    "#    np.tanh(27)\n",
    "for i in range(0,1):\n",
    "    rho_a = forward_model(rho_start,d_start,np.transpose(data[:,0]));\n",
    "#print(rho_a*1000)\n",
    "#t2 = time.time()\n",
    "print(t2-t1)\n",
    "#plot(data(:,1),rho_a,'b*-') % Inversion\n",
    "#plot(data(:,1),data(:,3),'r+-') % Data\n",
    "plt.plot(data[:,0],data[:,2],'b.-')\n",
    "plt.plot(data[:,0],rho_a,'r.-')\n",
    "#print(rho_a"
   ]
  },
  {
   "cell_type": "code",
   "execution_count": 6,
   "metadata": {},
   "outputs": [],
   "source": [
    "import scipy.special as scp"
   ]
  },
  {
   "cell_type": "code",
   "execution_count": 26,
   "metadata": {},
   "outputs": [
    {
     "data": {
      "text/plain": [
       "array([0.000e+00, 1.000e-02, 2.000e-02, ..., 4.998e+01, 4.999e+01,\n",
       "       5.000e+01])"
      ]
     },
     "execution_count": 26,
     "metadata": {},
     "output_type": "execute_result"
    }
   ],
   "source": [
    "dx = 0.01\n",
    "np.arange(0,50+dx,dx)"
   ]
  },
  {
   "cell_type": "code",
   "execution_count": 27,
   "metadata": {},
   "outputs": [
    {
     "data": {
      "text/plain": [
       "-0.09766849275778067"
      ]
     },
     "execution_count": 27,
     "metadata": {},
     "output_type": "execute_result"
    }
   ],
   "source": [
    "scp.jv(1,17)"
   ]
  },
  {
   "cell_type": "code",
   "execution_count": null,
   "metadata": {},
   "outputs": [],
   "source": []
  }
 ],
 "metadata": {
  "kernelspec": {
   "display_name": "Python 3",
   "language": "python",
   "name": "python3"
  },
  "language_info": {
   "codemirror_mode": {
    "name": "ipython",
    "version": 3
   },
   "file_extension": ".py",
   "mimetype": "text/x-python",
   "name": "python",
   "nbconvert_exporter": "python",
   "pygments_lexer": "ipython3",
   "version": "3.8.2"
  }
 },
 "nbformat": 4,
 "nbformat_minor": 4
}
