{
 "cells": [
  {
   "cell_type": "markdown",
   "metadata": {},
   "source": [
    "## Bibliotheken \n",
    "\n",
    "Im Laufe des Kurses werden sie feststellen, dass sie häufig nicht alles selbst programmieren müssen, sondern es für eine Vielzahl von Problemstellungen schon vorgefertige Lösungen gibt. Dabei unterscheidet man: \n",
    "\n",
    "<b> Funktion: </b> Eine Funktion ist eine vorgefertigter Programmabschnitt. Eine Funktionen hat (ähnlich wie eine mathematische Funktion) ein oder mehreren Argumente/Eingabewerte und Rückgabewerte. Wie sie eigene Funktionen schreiben lernen sie in der übernächsten Vorlesung kennen. \n",
    "\n",
    "<b> Bibliothek: </b> In einer Bibliothek sind häufig eine Reihe ähnlicher Funktionen zusammengefasst, sodass man nicht jede einzelne Funktion separat importieren muss. \n",
    "\n",
    "Eine weitverbreitete Bibliothek ist die sogenannte *numpy*-Bibliothek, die eine Vielzahl mathematischer Funktionen enthält und außerdem ermöglicht mit Vektoren und Matrizen zu arbeiten. Eine Bibliothek wird mithilfe des Kommandos *import* geladen. Da Bibliotheksnamen häufig sehr lang sind, ist es üblich sie unter einem *alias* zu laden. Für die *numpy* -Bibliothek ist zum Beispiel der alias np sehr verbreitet. "
   ]
  },
  {
   "cell_type": "code",
   "execution_count": 1,
   "metadata": {},
   "outputs": [],
   "source": [
    "import numpy as np"
   ]
  },
  {
   "cell_type": "markdown",
   "metadata": {},
   "source": [
    "Die *numpy* Bibliothek ist nun importiert und es kann auf ihre Funktionen zugegriffen werden. Um auf eine Funktionen der Bibliothek zugreifen zu können, verwendet man folgende Syntax: \n",
    "\n",
    "    (Name der Bibliothek) (Punkt) (Funktionsname(Funktionsargumente))\n",
    "        also z.b. \n",
    "    np.sin()\n",
    "        um auf die Sinusfunktion der numpy Bibliothek zuzugreifen\n",
    "          \n",
    "Um einen Überblick über zu erhalten welche in einer Bibliothek enthalten sind kann man zum Beispiel den Namen der Bibliothek und den Punkt verwenden und anschließend die *Tabulator*-Taste drücken: "
   ]
  },
  {
   "cell_type": "code",
   "execution_count": 2,
   "metadata": {},
   "outputs": [
    {
     "ename": "SyntaxError",
     "evalue": "invalid syntax (<ipython-input-2-df0eca0bfa5c>, line 1)",
     "output_type": "error",
     "traceback": [
      "\u001b[1;36m  File \u001b[1;32m\"<ipython-input-2-df0eca0bfa5c>\"\u001b[1;36m, line \u001b[1;32m1\u001b[0m\n\u001b[1;33m    np.\u001b[0m\n\u001b[1;37m       ^\u001b[0m\n\u001b[1;31mSyntaxError\u001b[0m\u001b[1;31m:\u001b[0m invalid syntax\n"
     ]
    }
   ],
   "source": [
    "np."
   ]
  },
  {
   "cell_type": "markdown",
   "metadata": {},
   "source": [
    "Um Hilfe sich die Hilfe zu einer bestimmten Funktion anzuschauen bietet sich die *info*-Funktion von numpy an. Die Hilfe zu *np.sin()* zeigt zum Beispiel das der Winkel in Radiant gegeben werden muss und nicht in Grad. (Einer der häufigsten Fehler am Anfang meiner Programmierarbeit...)"
   ]
  },
  {
   "cell_type": "code",
   "execution_count": 60,
   "metadata": {},
   "outputs": [],
   "source": [
    "#np.info(np.sin)"
   ]
  },
  {
   "cell_type": "markdown",
   "metadata": {},
   "source": [
    "Im Folgenden werden wir einige wichtige Funktionen der *numpy*-Bibliothek genauer betrachten: "
   ]
  },
  {
   "cell_type": "code",
   "execution_count": 3,
   "metadata": {},
   "outputs": [
    {
     "name": "stdout",
     "output_type": "stream",
     "text": [
      "Der Wert der Zahl Pi beträgt 3.141592653589793 ,der Wert der eulerschen Zahl 2.718281828459045\n",
      "\n",
      " Ein Vektor mit den Einträgen 0 bis 10: \n",
      "  [ 0.  1.  2.  3.  4.  5.  6.  7.  8.  9. 10.]\n"
     ]
    },
    {
     "data": {
      "image/png": "[encoded data removed]",
      "text/plain": [
       "<Figure size 432x288 with 1 Axes>"
      ]
     },
     "metadata": {
      "needs_background": "light"
     },
     "output_type": "display_data"
    }
   ],
   "source": [
    "## Mathematische Konstanten\n",
    "pi = np.pi\n",
    "e = np.e\n",
    "print('Der Wert der Zahl Pi beträgt',pi,',der Wert der eulerschen Zahl',e)\n",
    "\n",
    "\n",
    "## Vektoren\n",
    "vec = np.linspace(0,10,11) # erstellt einen Vektor der Zahlen 0 bis 10\n",
    "print('\\n Ein Vektor mit den Einträgen 0 bis 10: \\n ',vec)\n",
    "\n",
    "vec2 = np.linspace(0,2*np.pi,50) # erstellt einen Vektor zwischen Null und 2Pi mit 50 Einträgen. \n",
    "sin_vec = np.sin(vec2); \n",
    "cos_vec = np.cos(vec2); \n",
    "\n",
    "\n",
    "# Diesen Code müssen sie noch nicht verstehen, die graphische Darstellung werden wir in der 5. Vorlesung thematisieren, \n",
    "# es dient lediglich zur Veranschaulichung.  \n",
    "import matplotlib.pyplot as plt\n",
    "plt.plot(vec2,sin_vec,'b.-')\n",
    "plt.plot(vec2,cos_vec,'r.-')\n",
    "plt.legend(['Sinus-Funktion','Cosinusfunktion'])\n",
    "plt.show()"
   ]
  },
  {
   "cell_type": "code",
   "execution_count": 13,
   "metadata": {},
   "outputs": [
    {
     "name": "stdout",
     "output_type": "stream",
     "text": [
      "[[1 2 3]\n",
      " [4 5 6]]\n",
      "Die Matrix hat eine Größe von  (2, 3)\n",
      "[[5 2 3]\n",
      " [4 5 6]] \n",
      "\n"
     ]
    }
   ],
   "source": [
    "# Matrizen: Erstellung und Manipulation\n",
    "\n",
    "R = np.array([[1,2,3],[4,5,6]])\n",
    "print(R)\n",
    "print('Die Matrix hat eine Größe von ',np.shape(R)) # \n",
    "\n",
    "# Zugriff auf einzelne Matrixeinträge (!! Wichtig: Python fängt bei NUll an zu zählen !!)\n",
    "R[0,0] = 5; \n",
    "print(R,'\\n')\n",
    "\n",
    "## FRAGE 0: Warum gibt uns folgender Ausdruck eine Fehlermeldung ? ##\n",
    "# R[3,1] = 1"
   ]
  },
  {
   "cell_type": "markdown",
   "metadata": {},
   "source": [
    "### Verschiedene Formen der Matrixmultiplikation\n",
    "\n",
    "In Python gibt es verschiedene Formen der Matrixmultiplikation: \n",
    "\n",
    "    1: Elementweise Multiplikation von Matrizen und einzelnen Zahlen: Jedes Element eines Vektors wird mit einer einzelnen Zahl multipliziert\n",
    "    \n",
    "    2: Elementweise Multiplikation von Matrizen: Sind beide Matrizen gleich groß, so wird jedes Element in der ersten MAtrix mit dem in der zweiten Matrix multipliziert. Bei ungleich großen Matrizen kommt es entweder zu einer Fehlermeldung oder zu \"Broadcasting\", siehe unten. \n",
    "\n",
    "    3: \"Echte\" Matrixmultiplikation\n"
   ]
  },
  {
   "cell_type": "code",
   "execution_count": 62,
   "metadata": {},
   "outputs": [
    {
     "name": "stdout",
     "output_type": "stream",
     "text": [
      "Elementweise Multiplikation: \n",
      " [[25 10 15]\n",
      " [20 25 30]] \n",
      "\n",
      "Broadcasting: \n",
      " [[ 5  4  9]\n",
      " [ 4 10 18]] \n",
      "\n",
      "Elementweise Multiplikation: \n",
      " [[15  4  3]\n",
      " [24 25 24]] \n",
      "\n",
      "Echte Matrixmultiplikation \n",
      " [[22 52]\n",
      " [28 73]] \n",
      " = \n",
      " [[22 52]\n",
      " [28 73]] \n",
      " = \n",
      " [[22 52]\n",
      " [28 73]] \n",
      "\n"
     ]
    }
   ],
   "source": [
    "# Alle Elemente mit einer konstanten Multiplizieren\n",
    "\n",
    "print('Elementweise Multiplikation: \\n',R*5,'\\n')\n",
    "\n",
    "# Broadcasting: Der Ursprungsvektor R wird zeilenweise mit A multipliziert\n",
    "\n",
    "A = np.array([1,2,3])\n",
    "print('Broadcasting: \\n',R*A,'\\n')\n",
    "\n",
    "# Elementweise Multiplikation von Elementen\n",
    "\n",
    "B = np.array([[3,2,1],[6,5,4]])\n",
    "print('Elementweise Multiplikation: \\n',R*B,'\\n')\n",
    "\n",
    "# \"Echte\" Matrixmultiplikation: Die folgenden drei Berechnungen sind equivalent !\n",
    "\n",
    "print('Echte Matrixmultiplikation \\n', R@B.T,'\\n = \\n',np.dot(R,B.T),'\\n = \\n',np.matmul(R,B.T),'\\n')\n"
   ]
  },
  {
   "cell_type": "markdown",
   "metadata": {},
   "source": [
    "### Unterschied zwischen Vektor und Matrix\n",
    "\n",
    "Matrizen und Vektoren werden in numpy unterscheidlich betrachtet, siehe unten:"
   ]
  },
  {
   "cell_type": "code",
   "execution_count": 59,
   "metadata": {},
   "outputs": [
    {
     "name": "stdout",
     "output_type": "stream",
     "text": [
      "Die Dimension des Vektors: (3,)\n",
      "Wenn man einen Vektor transportiert, passiert nichts...: [1 2 3] [1 2 3] \n",
      "\n",
      "Die Dimension der Matrix: (1, 3)\n",
      "Ist das Ganze als Matrix definiert, ändert das transponieren die Dimension...: [[1 2 3]] [[1]\n",
      " [2]\n",
      " [3]]\n"
     ]
    }
   ],
   "source": [
    "# Erstellung eines Vektors A\n",
    "A = np.array([1,2,3])\n",
    "print('Die Dimension des Vektors:',np.shape(A))\n",
    "print('Wenn man einen Vektor transportiert, passiert nichts...:',A,A.T,'\\n')\n",
    "\n",
    "# Erstellung als Matrix\n",
    "A1 = np.matrix(A)\n",
    "print('Die Dimension der Matrix:',np.shape(A1))\n",
    "print('Ist das Ganze als Matrix definiert, ändert das transponieren die Dimension...:',A1,A1.T)\n"
   ]
  },
  {
   "cell_type": "markdown",
   "metadata": {},
   "source": [
    "### Matrixmultiplikation mithilfe von numpy\n",
    "\n",
    "Im Folgenden werden wir Matrixmultiplikationen mit Hilfe von numpy durchführen, ein einfaches anschauliches Beispiel ist die Drehung eines Vektors im Raum. Dafür verwendet man Dreh- bzw. Rotationsmatrizen (siehe z.B. https://de.wikipedia.org/wiki/Drehmatrix). Im Folgenden drehen wir einen Vektor, der in X-Richtung zeigt um eine beliebige Gradzahl:"
   ]
  },
  {
   "cell_type": "code",
   "execution_count": 64,
   "metadata": {},
   "outputs": [
    {
     "data": {
      "image/png": "[encoded data removed]",
      "text/plain": [
       "<Figure size 432x288 with 1 Axes>"
      ]
     },
     "metadata": {
      "needs_background": "light"
     },
     "output_type": "display_data"
    }
   ],
   "source": [
    "# Matrizen und Matrixmultiplikation\n",
    "\n",
    "a_r = 90; \n",
    "R = np.array([[np.cos(a_r),np.sin(a_r)],[np.sin(a_r),np.cos(a_r)]])\n",
    "\n",
    "vec = np.array([1,0])\n",
    "vec_rot = R@vec\n",
    "\n",
    "plt.plot([0,vec[0]],[0,vec[1]],'b-')\n",
    "plt.plot([0,vec_rot[0]],[0,vec_rot[1]],'r-')\n",
    "plt.plot([0,0],[0,1],'g--')\n",
    "plt.legend(['Startvektor','rotierter Vektor','erwartetes Ergebnis'])\n",
    "plt.xlim([-1,1])\n",
    "plt.show()\n",
    "\n",
    "## FRAGE 1: Was haben wir hier falsch gemacht ?? ##"
   ]
  },
  {
   "cell_type": "code",
   "execution_count": 65,
   "metadata": {},
   "outputs": [
    {
     "name": "stdout",
     "output_type": "stream",
     "text": [
      "[1 7 3 4 5]\n"
     ]
    }
   ],
   "source": [
    "# Unterschied zwischen Zuweisungen und Kopien\n",
    "\n",
    "a = np.array([1,2,3,4,5]); \n",
    "b = a; \n",
    "a[1] = 7; \n",
    "## FRAGE 2: Was erwarten Sie für eine Ausgabe für b ? \n",
    "print(b)\n"
   ]
  },
  {
   "cell_type": "code",
   "execution_count": 74,
   "metadata": {},
   "outputs": [
    {
     "name": "stdout",
     "output_type": "stream",
     "text": [
      "Die Einträge des kopierten Vektors lauten:  [1 2 3 4 5] \n",
      "Die Einträge des zugewiesenen Vektors:  [1 7 3 4 5]\n"
     ]
    }
   ],
   "source": [
    "# Unterschied zwischen Zuweisungen und Kopien\n",
    "\n",
    "a = np.array([1,2,3,4,5]); \n",
    "b = np.copy(a)\n",
    "b1 = a \n",
    "a[1] = 7 \n",
    "print('Die Einträge des kopierten Vektors lauten: ',b, '\\nDie Einträge des zugewiesenen Vektors: ',b1)\n"
   ]
  },
  {
   "cell_type": "code",
   "execution_count": 5,
   "metadata": {},
   "outputs": [
    {
     "name": "stdout",
     "output_type": "stream",
     "text": [
      "Die Lösung des linearen Gleichungssystems lautet [3. 2.]\n"
     ]
    }
   ],
   "source": [
    "# Ein bisschen lineare Algebra: \n",
    "\n",
    "A = np.array([[1.,2.],[3.,4.]])\n",
    "A_strich = np.transpose(A) # Die transponierte einer Matrix\n",
    "A_inv = np.linalg.inv(A) # Die inverse einer Matrix\n",
    "\n",
    "x = np.linalg.solve(A,np.array([7.,17.])) # Lösen des linearen Gleichungssystems\n",
    "print('Die Lösung des linearen Gleichungssystems lautet', x)\n"
   ]
  },
  {
   "cell_type": "code",
   "execution_count": null,
   "metadata": {},
   "outputs": [],
   "source": [
    "# Antworten auf die Fragen\n",
    "\n",
    "# Frage 0: Die Matrix hat nur zwei Zeilen und 3 Spalten, deswegen kann man nicht auf das Element in der 4.Zeile und 2.Spalte zugreifen\n",
    "# Frage 1: Die Sinusfunktion erwaret den Winkel in Radiant und nicht in Grad, man muss eine Zeile a_r = np.deg2rad(a_r) einfügen\n",
    "# Frage 2: Intuitiv würde man die Ausgabe [1 2 3 4 5] erwarten, da die Einträge von A erst nach der Zuweisung verändert wurden. \n",
    "#          Man unterscheidet hier zwischen Zuweisungen und Kopien eines Vektors"
   ]
  }
 ],
 "metadata": {
  "kernelspec": {
   "display_name": "Python 3",
   "language": "python",
   "name": "python3"
  },
  "language_info": {
   "codemirror_mode": {
    "name": "ipython",
    "version": 3
   },
   "file_extension": ".py",
   "mimetype": "text/x-python",
   "name": "python",
   "nbconvert_exporter": "python",
   "pygments_lexer": "ipython3",
   "version": "3.8.2"
  }
 },
 "nbformat": 4,
 "nbformat_minor": 2
}
