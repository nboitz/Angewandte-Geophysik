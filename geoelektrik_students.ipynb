{
 "cells": [
  {
   "cell_type": "markdown",
   "metadata": {},
   "source": [
    "## Inversion von Geoelektrik-Daten\n"
   ]
  },
  {
   "cell_type": "code",
   "execution_count": 1,
   "metadata": {},
   "outputs": [],
   "source": [
    "import numpy as np\n",
    "import scipy.special as scp\n",
    "import matplotlib.pyplot as plt\n",
    "import time\n",
    "\n",
    "def precompute_bessel_function(L_model,dx,n_max):\n",
    "    vec = np.arange(0,n_max+dx,dx); \n",
    "    bessel = np.zeros([len(L_model),len(vec)])\n",
    "    for jdx,L in enumerate(L_model):\n",
    "        for idx,lamb in enumerate(vec):\n",
    "            bessel[jdx,idx] = scp.jv(1,lamb*L)*lamb\n",
    "    return bessel\n",
    "\n",
    "def forward_model_1(rho,d,L_model,bessel,dx,n_max): \n",
    "    ''' Berechnet die scheinbaren spezifischen Widerstände für Schichten mit der\n",
    "        Dicke d und spezifischen Widerständen rho für bestimmte Auslagenlängen L/2 \n",
    "\n",
    "    © Nepomuk Boitz, Mai 2019, boitz@geophysik.fu-berlin.de\n",
    "'''\n",
    "    ## Initialize parameters\n",
    "    n = len(rho); \n",
    "    K = np.zeros([n]); \n",
    "    T = np.zeros([n])\n",
    "    vec1 = np.arange(0,n_max+dx,dx); \n",
    "    T_star = np.zeros(len(vec1))\n",
    "    P = np.zeros([n-1])\n",
    "    rho_a = np.zeros([len(L_model)])\n",
    "    temp = np.zeros([n-1,len(vec1)])\n",
    "    check = np.zeros([n-1,len(vec1)])\n",
    "    K[n-1] = 1; \n",
    "    # Precomputations\n",
    "    for i in range(0,n-1):\n",
    "        P[i] = rho[i]/rho[i+1]; \n",
    "        for idx,lamb in enumerate(vec1):\n",
    "            temp[i,idx] = np.tanh(d[i]*lamb)\n",
    "\n",
    "    vec = np.arange(n-2,-1,-1)\n",
    "    count = 0; \n",
    "    for idx,lamb in enumerate(vec1):  \n",
    "        for i in vec:\n",
    "            K[i] = (K[i+1]+P[i]*temp[i,idx])/(P[i] + K[i+1]*temp[i,idx]);\n",
    "            check[i,idx] = K[i]\n",
    "        T_star[idx] = rho[0]*check[0,idx];\n",
    "    \n",
    "    \n",
    "    # Forward Modeling     \n",
    "    for jdx,L in enumerate(L_model):\n",
    "        fac = 0;\n",
    "        for idx,lamb in enumerate(vec1):\n",
    "            fac = fac + (((T_star[idx]-rho[0])*bessel[jdx,idx])*dx);\n",
    "        fac = rho[0]+L**2*fac; \n",
    "        rho_a[count] = fac;   \n",
    "        count += 1; \n",
    "\n",
    "    return rho_a\n",
    "\n",
    "def invert_model(n_realisation,it_max,start_model,data,dx,n_max):\n",
    "    history = np.zeros([n_realisation,len(start_model)+1])\n",
    "    bessel = precompute_bessel_function(data[:,0],dx,n_max)\n",
    "    n_layer = len(start_model)//2+1\n",
    "    for j in range(n_realisation):\n",
    "        rho = start_model[range(0,len(start_model)//2+1)]; \n",
    "        d = start_model[range(len(start_model)//2+1,len(start_model))]; \n",
    "        rho_a = forward_model_1(rho,d,data[:,0],bessel,dx,n_max);\n",
    "        misfit = np.linalg.norm(np.log10(rho_a)  - np.log10(data[:,2]),2); \n",
    "        mis = np.zeros(it_max)\n",
    "        a = time.time()\n",
    "        for i in range(it_max):\n",
    "            rho_update = np.random.randn(n_layer)*fac*rho;\n",
    "            d_update =np.random.randn(n_layer-1)*fac*d;\n",
    "            rho_a = forward_model_1(rho+rho_update,d+d_update,data[:,0],bessel,dx,n_max);\n",
    "            mis[i] = np.linalg.norm(np.log10(rho_a)  - np.log10(data[:,2]),2);\n",
    "            if (mis[i] < misfit):\n",
    "                misfit = mis[i];\n",
    "                rho  = rho+rho_update;\n",
    "                d = d+d_update;\n",
    "        history[j,:] = np.concatenate([rho, d,np.array( [mis[i]])]);\n",
    "        b = time.time()\n",
    "        print(b-a)\n",
    "    return history\n",
    "def plot_single_model(data,rho_a): \n",
    "    fig, ax = plt.subplots(figsize=(12, 6))\n",
    "    \n",
    "    ax.loglog(data[:,0],data[:,2],'b.-')\n",
    "    ax.loglog(data[:,0],rho_a,'r.-')\n",
    "    #plt.yscale('log')\n",
    "    #plt.xscale('log')\n",
    "    plt.xlabel('L/2 [m]')\n",
    "    plt.ylabel('scheinbarer spezifischer Widerstand [Ohm m]')\n",
    "    plt.legend(['Data','Modell-Fit'])\n",
    "    plt.title('Datenanpassung durch das beste invertierte Modell')\n",
    "    \n",
    "def plot_equivalent_models(history):\n",
    "    fig, ax = plt.subplots(figsize=(8, 8))\n",
    "\n",
    "    n_layer = np.size(history,1)//2\n",
    "    for i in range(np.size(history,0)):\n",
    "        z = np.zeros(2*n_layer)\n",
    "        rho = np.zeros(2*n_layer)\n",
    "        for j in range(n_layer):\n",
    "            rho[range(j*2,j*2+2)] = history[i,j]\n",
    "        for j in range(n_layer-1):\n",
    "            z[range(j*2+1,j*2+3)] = history[i,n_layer+j] + z[j]\n",
    "        z[n_layer*2-1] = 20\n",
    "        plt.loglog(rho,z,'k--')\n",
    "        if np.argmin(history[:,np.size(history,1)-1])==i:\n",
    "            plt.loglog(rho,z,'r-')\n",
    "        #plt.yscale('log')\n",
    "    plt.gca().invert_yaxis()\n",
    "    plt.ylabel('Tiefe [m]')\n",
    "    plt.xlabel('Spezifischer Widerstand [Ohm m]')\n",
    "    \n",
    "    \n",
    "    "
   ]
  },
  {
   "cell_type": "code",
   "execution_count": 2,
   "metadata": {},
   "outputs": [
    {
     "name": "stdout",
     "output_type": "stream",
     "text": [
      "11.918173789978027\n",
      "10.577857971191406\n",
      "10.352753639221191\n",
      "10.408938884735107\n",
      "10.421563148498535\n"
     ]
    }
   ],
   "source": [
    "# Messdaten [L/2,Geometruefaktor,scheinbarer spezifischer Widerstand]\n",
    "data = np.array([[1.33,79.9890,381.69],\n",
    "                 [1.78,30.0490,275.50],\n",
    "                 [2.37,9.9592,167.92],\n",
    "                 [3.16,2.7613,84.46],\n",
    "                 [4.22,1.0549,58.19],\n",
    "                 [5.62,0.5077,49.98],\n",
    "                 [7.50,0.3067,53.96],\n",
    "                 [10.00,0.1815,56.88],\n",
    "                 [13.34,0.1102,61.52],\n",
    "                 [17.78,0.0557,55.27],\n",
    "                 [23.71,0.0303,53.49],\n",
    "                 [31.62,0.0157,49.30],\n",
    "                 [42.17,0.0080,44.69]]) \n",
    "\n",
    "# Startmodell\n",
    "rho_start = np.array([500,20,100,10]); \n",
    "d_start = np.array([1,1,8]); \n",
    "start_model = np.concatenate([rho_start,d_start])\n",
    "\n",
    "# Inversionparameter\n",
    "dx = .075 # Paramter für das numerische lösen des Intergrals (am besten so lassen)\n",
    "n_max = 30; # Paramter für das numerische lösen des Intergrals (am besten so lassen)\n",
    "fac = .15; # kontrolliert wie groß ein einzelnes Modellupdate sein soll\n",
    "it_max = 400; #% Anzahl der Modelle pro Iteration die getestet werden\n",
    "n_realisation = 5; # Wie viele Equivalenzmodelle sollen berechnet werden ? \n",
    "\n",
    "# Inversion wird gestartet#\n",
    "bessel = precompute_bessel_function(data[:,0],dx,n_max)\n",
    "history = invert_model(n_realisation,it_max,start_model,data,dx,n_max)\n"
   ]
  },
  {
   "cell_type": "code",
   "execution_count": 3,
   "metadata": {},
   "outputs": [
    {
     "data": {
      "image/png": "[encoded data removed]",
      "text/plain": [
       "<Figure size 864x432 with 1 Axes>"
      ]
     },
     "metadata": {
      "needs_background": "light"
     },
     "output_type": "display_data"
    }
   ],
   "source": [
    "# Find best model \n",
    "which_model = np.argmin(history[:,np.size(history,1)-1])\n",
    "\n",
    "# Plot best model\n",
    "rho_final = history[which_model,range(0,np.size(history,1)//2)]; \n",
    "d_final = history[which_model,range(np.size(history,1)//2,np.size(history,1)-1)]; \n",
    "rho_a = forward_model_1(rho_final,d_final,data[:,0],bessel,dx,n_max)\n",
    "plot_single_model(data,rho_a)"
   ]
  },
  {
   "cell_type": "code",
   "execution_count": null,
   "metadata": {},
   "outputs": [],
   "source": [
    "# Plot Equivalent-Models\n",
    "plot_equivalent_models(history)"
   ]
  }
 ],
 "metadata": {
  "kernelspec": {
   "display_name": "Python 3",
   "language": "python",
   "name": "python3"
  },
  "language_info": {
   "codemirror_mode": {
    "name": "ipython",
    "version": 3
   },
   "file_extension": ".py",
   "mimetype": "text/x-python",
   "name": "python",
   "nbconvert_exporter": "python",
   "pygments_lexer": "ipython3",
   "version": "3.8.2"
  }
 },
 "nbformat": 4,
 "nbformat_minor": 4
}
